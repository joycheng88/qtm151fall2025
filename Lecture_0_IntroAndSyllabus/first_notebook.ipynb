{
 "cells": [
  {
   "cell_type": "markdown",
   "id": "45685c54",
   "metadata": {},
   "source": [
    "<span style=\"font-size: 28px;\">This is my first Jupyter notebook</span>\n"
   ]
  },
  {
   "cell_type": "code",
   "execution_count": null,
   "id": "36fad10c",
   "metadata": {},
   "outputs": [
    {
     "name": "stdout",
     "output_type": "stream",
     "text": [
      "My name is  Smith\n"
     ]
    }
   ],
   "source": [
    "print(\"My name is Jiuyi (Joy) Cheng\")"
   ]
  }
 ],
 "metadata": {
  "kernelspec": {
   "display_name": "base",
   "language": "python",
   "name": "python3"
  },
  "language_info": {
   "codemirror_mode": {
    "name": "ipython",
    "version": 3
   },
   "file_extension": ".py",
   "mimetype": "text/x-python",
   "name": "python",
   "nbconvert_exporter": "python",
   "pygments_lexer": "ipython3",
   "version": "3.13.5"
  }
 },
 "nbformat": 4,
 "nbformat_minor": 5
}
